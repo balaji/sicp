{
 "cells": [
  {
   "attachments": {},
   "cell_type": "markdown",
   "metadata": {},
   "source": [
    "### Example:\n",
    "Computing the exponential of a given number fast:"
   ]
  },
  {
   "cell_type": "code",
   "execution_count": 1,
   "metadata": {
    "vscode": {
     "languageId": "racket"
    }
   },
   "outputs": [
    {
     "data": {
      "text/html": [
       "<code>10000000000</code>"
      ],
      "text/plain": [
       "10000000000"
      ]
     },
     "execution_count": 1,
     "metadata": {},
     "output_type": "execute_result"
    }
   ],
   "source": [
    "(define (square n) (* n n))\n",
    "(define (even? n)\n",
    "  (= (remainder n 2) 0))\n",
    "(define (fast-expt b n)\n",
    "  (cond ((= n 0) 1)\n",
    "        ((even? n) (square (fast-expt b (/ n 2))))\n",
    "        (else (* b (fast-expt b (- n 1))))))\n",
    "(fast-expt 10 10)"
   ]
  },
  {
   "attachments": {},
   "cell_type": "markdown",
   "metadata": {},
   "source": [
    "### Exercise 1.16: \n",
    "Design a procedure that evolves an iterative exponentiation process that uses successive squaring and uses a logarithmic number of steps, as does `fast-expt`. (Hint: Using the observation that $(b^{\\frac{n}{2}})^2 = (b^2)^{\\frac{n}{2}}$, keep, along with the exponent $n$ and the base $b$, an additional state variable $a$, and define the state transformation in such a way that the product $ab^n$ is unchanged from state to state. At the beginning of the process $a$ is taken to be 1, and the answer is given by the value of $a$ at the end of the process. In general, the technique of defining an *invariant quantity* that remains unchanged from state to state is a powerful way to think about the design of iterative algorithms.)"
   ]
  },
  {
   "cell_type": "code",
   "execution_count": 2,
   "metadata": {
    "vscode": {
     "languageId": "racket"
    }
   },
   "outputs": [
    {
     "data": {
      "text/html": [
       "<code>10000000000</code>"
      ],
      "text/plain": [
       "10000000000"
      ]
     },
     "execution_count": 2,
     "metadata": {},
     "output_type": "execute_result"
    }
   ],
   "source": [
    "(define (fast-expt2 b n)\n",
    "  (define (fast-expt-iter counter acc base)\n",
    "    (cond ((= counter 0) acc)\n",
    "          ((even? counter) (fast-expt-iter (/ counter 2) acc (* base base)))\n",
    "          (else (fast-expt-iter (- counter 1) (* base acc) base))))\n",
    "  (fast-expt-iter n 1 b))\n",
    "\n",
    "  (fast-expt2 10 10)"
   ]
  },
  {
   "attachments": {},
   "cell_type": "markdown",
   "metadata": {},
   "source": [
    "### Exercise 1.17: \n",
    "The exponentiation algorithms in this section are based on performing exponentiation by means of repeated multiplication. In a similar way, one can perform integer multiplication by means of repeated addition. The following multiplication procedure (in which it is assumed that our language can only add, not multiply) is analogous to the expt procedure:\n",
    "```scheme\n",
    "(define (* a b)\n",
    "  (if (= b 0)\n",
    "      0\n",
    "      (+ a (* a (- b 1)))))\n",
    "```\n",
    "This algorithm takes a number of steps that is linear in b. Now suppose we include, together with addition, operations `double`, which doubles an integer, and `halve`, which divides an (even) integer by 2. Using these, design a multiplication procedure analogous to `fast-expt` that uses a logarithmic number of steps."
   ]
  },
  {
   "cell_type": "code",
   "execution_count": 3,
   "metadata": {
    "vscode": {
     "languageId": "racket"
    }
   },
   "outputs": [
    {
     "data": {
      "text/html": [
       "<code>4</code>"
      ],
      "text/plain": [
       "4"
      ]
     },
     "execution_count": 3,
     "metadata": {},
     "output_type": "execute_result"
    }
   ],
   "source": [
    "(define (double a) (+ a a))\n",
    "(define (halve a) (/ a 2))\n",
    "\n",
    "(define (mul a b)\n",
    "  (cond ((= a 0) 0)\n",
    "        ((even? a) (double (mul (halve a) b)))\n",
    "        (else (+ b (mul (- a 1) b)))))\n",
    "\n",
    "(mul 2 2)"
   ]
  },
  {
   "attachments": {},
   "cell_type": "markdown",
   "metadata": {},
   "source": [
    "### Exercise 1.18: \n",
    "Using the results of Exercise 1.16 and Exercise 1.17, devise a procedure that generates an iterative process for multiplying two integers in terms of adding, doubling, and halving and uses a logarithmic number of steps."
   ]
  },
  {
   "cell_type": "code",
   "execution_count": 4,
   "metadata": {
    "vscode": {
     "languageId": "racket"
    }
   },
   "outputs": [
    {
     "data": {
      "text/html": [
       "<code>6</code>"
      ],
      "text/plain": [
       "6"
      ]
     },
     "execution_count": 4,
     "metadata": {},
     "output_type": "execute_result"
    }
   ],
   "source": [
    "(define (mul2 a b)\n",
    "  (define (mul2-iter counter acc base)\n",
    "    (cond ((= counter 0) acc)\n",
    "          ((even? counter) (mul2-iter (halve counter) acc (double base)))\n",
    "          (else (mul2-iter (- counter 1) (+ base acc) base))))\n",
    "  (mul2-iter a 0 b))\n",
    "\n",
    "  (mul2 2 3)"
   ]
  },
  {
   "attachments": {},
   "cell_type": "markdown",
   "metadata": {},
   "source": [
    "### Exercise 1.19: \n",
    "There is a clever algorithm for computing the Fibonacci numbers in a logarithmic number of steps. Recall the transformation of the state variables $a$ and $b$ in the `fib-iter` process of Section 1.2.2: $a \\leftarrow a+b$ and $b \\leftarrow a$. Call this transformation $T$, and observe that applying $T$ over and over again $n$ times, starting with 1 and 0, produces the pair $Fib(n + 1)$ and $Fib(n)$. In other words, the Fibonacci numbers are produced by applying $T^n$ ,the $n^{th}$ power of the transformation $T$, starting with the pair (1, 0). Now consider $T$ to be the special case of $p = 0$ and $q = 1$ in a family of transformations $T_{pq}$, where $T_{pq}$ transforms the pair $(a, b)$ according to $a \\leftarrow bq + aq + ap$ and $b \\leftarrow bp + aq$. Show that if we apply such a transformation $T_{pq}$ twice, the effect is the same as using a single transformation $T_{p'q'}$ of the same form, and compute $p'$ and $q'$ in terms of $p$ and $q$. This gives us an explicit way to square these transformations, and thus we can compute $T^n$ using successive squaring, as in the `fast-expt` procedure. Put this all together to complete the following procedure, which runs in a logarithmic number of steps:\n",
    "\n",
    "```scheme\n",
    "(define (fib n)\n",
    "  (fib-iter 1 0 0 1 n))\n",
    "(define (fib-iter a b p q count)\n",
    "  (cond ((= count 0) b)\n",
    "        ((even? count)\n",
    "         (fib-iter a\n",
    "                   b\n",
    "                   ⟨??⟩ ; compute p′\n",
    "                   ⟨??⟩ ; compute q′\n",
    "                   (/ count 2)))\n",
    "        (else (fib-iter (+ (* b q) (* a q) (* a p))\n",
    "                        (+ (* b p) (* a q))\n",
    "                        p\n",
    "                        q\n",
    "                        (- count 1)))))\n",
    "```"
   ]
  },
  {
   "attachments": {},
   "cell_type": "markdown",
   "metadata": {},
   "source": [
    "We will follow from the hint in the exercise to apply $T_{pq}$ twice to get $T_{p'q'}$\n",
    "\n",
    "$T_{pq}(a, b) = (bq + ap + aq, bp + aq)$\n",
    "\n",
    "$T_{pq}(T_{pq}(a, b)) = ((bp + aq)q + (bq + ap + aq)p + (bq + ap + aq)q, (bp + aq)p + (bq + ap + aq)q)$\n",
    "\n",
    "$T_{pq}(T_{pq}(a, b)) = (bpq + aq^2 + bpq + ap^2 + apq + bq^2 + apq + aq^2, bp^2 + aqp + bq^2 + apq + aq^2)\\newline$\n",
    "\n",
    "(Note: The following step would take some trial and error. The goal is to replicate this equation: `bq + ap + aq, bp + aq`)\n",
    "\n",
    "$T_{pq}(T_{pq}(a, b)) = (b(2pq + q^2) + a(p^2 + q^2) + a(2pq + q^2), b(p^2 + q^2) + a(2pq + q^2))$\n",
    "\n",
    "Thus\n",
    "\n",
    "$p' = p^2 + q^2 \\newline q' = 2pq + q^2$"
   ]
  },
  {
   "cell_type": "code",
   "execution_count": 5,
   "metadata": {
    "vscode": {
     "languageId": "racket"
    }
   },
   "outputs": [
    {
     "data": {
      "text/html": [
       "<code>55</code>"
      ],
      "text/plain": [
       "55"
      ]
     },
     "execution_count": 5,
     "metadata": {},
     "output_type": "execute_result"
    }
   ],
   "source": [
    "(define (fib n)\n",
    "  (fib-iter 1 0 0 1 n))\n",
    "(define (fib-iter a b p q count)\n",
    "  (cond ((= count 0) b)\n",
    "        ((even? count)\n",
    "         (fib-iter a\n",
    "                   b\n",
    "                   (+ (* p p) (* q q))\n",
    "                   (+ (* 2 q p) (* q q))\n",
    "                   (/ count 2)))\n",
    "        (else (fib-iter (+ (* b q) (* a q) (* a p))\n",
    "                        (+ (* b p) (* a q))\n",
    "                        p\n",
    "                        q\n",
    "                        (- count 1)))))\n",
    "\n",
    "(fib 10)"
   ]
  }
 ],
 "metadata": {
  "kernelspec": {
   "display_name": "Racket",
   "language": "racket",
   "name": "racket"
  },
  "language_info": {
   "codemirror_mode": "scheme",
   "file_extension": ".rkt",
   "mimetype": "text/x-racket",
   "name": "Racket",
   "pygments_lexer": "racket",
   "version": "8.7"
  },
  "orig_nbformat": 4
 },
 "nbformat": 4,
 "nbformat_minor": 2
}
