{
 "cells": [
  {
   "attachments": {},
   "cell_type": "markdown",
   "metadata": {},
   "source": [
    "### Exercise 1.11: \n",
    "\n",
    "A function f is defined by the rule that\n",
    "\n",
    "$$f(n) = \\left\\{\\begin{matrix}\n",
    "n & if  & n < 3\\\\ \n",
    "f(n-1) + 2f(n-1)+3f(n-3) & if & n \\geq 3\n",
    "\\end{matrix}\\right.$$\n",
    "\n",
    "Write a procedure that computes f by means of a recursive process.\n",
    "\n",
    "Write a procedure that computes f by means of an iterative process."
   ]
  },
  {
   "attachments": {},
   "cell_type": "markdown",
   "metadata": {},
   "source": [
    "#### Answer:\n",
    "Procedure that computes `f` by means of a recursive process"
   ]
  },
  {
   "cell_type": "code",
   "execution_count": 21,
   "metadata": {
    "vscode": {
     "languageId": "racket"
    }
   },
   "outputs": [
    {
     "data": {
      "text/html": [
       "<code>821337484081</code>"
      ],
      "text/plain": [
       "821337484081"
      ]
     },
     "execution_count": 21,
     "metadata": {},
     "output_type": "execute_result"
    }
   ],
   "source": [
    "(define (f-recur n)\n",
    "  (if (< n 3)\n",
    "      n\n",
    "      (+ (f-recur (- n 1)) (* 2 (f-recur (- n 2))) (* 3 (f-recur (- n 3))))))\n",
    "\n",
    "(f-recur 33)"
   ]
  },
  {
   "cell_type": "code",
   "execution_count": 22,
   "metadata": {
    "vscode": {
     "languageId": "racket"
    }
   },
   "outputs": [
    {
     "data": {
      "text/html": [
       "<code>821337484081</code>"
      ],
      "text/plain": [
       "821337484081"
      ]
     },
     "execution_count": 22,
     "metadata": {},
     "output_type": "execute_result"
    }
   ],
   "source": [
    "(define (f-iter n)\n",
    "  (define (f-iter counter a b c)\n",
    "    (if (= counter 0)\n",
    "        c\n",
    "        (f-iter (- counter 1) (+ a (* 2 b) (* 3 c)) a b)))\n",
    "  (f-iter n 2 1 0))\n",
    "\n",
    "(f-iter 33)"
   ]
  },
  {
   "attachments": {},
   "cell_type": "markdown",
   "metadata": {},
   "source": [
    "### Exercise 1.12: \n",
    "The following pattern of numbers is called Pascal’s triangle.\n",
    "\n",
    "```\n",
    "    1\n",
    "   1 1\n",
    "  1 2 1\n",
    " 1 3 3 1\n",
    "1 4 6 4 1\n",
    "  . . .\n",
    "```\n",
    "Thee numbers at the edge of the triangle are all 1, and each number inside the triangle is the sum of the two numbers above it. Write a procedure that computes elements of Pascal’s triangle by means of a recursive process."
   ]
  },
  {
   "cell_type": "code",
   "execution_count": 23,
   "metadata": {
    "vscode": {
     "languageId": "racket"
    }
   },
   "outputs": [
    {
     "name": "stdout",
     "output_type": "stream",
     "text": [
      "1 \n",
      "1 1 \n",
      "1 2 1 \n",
      "1 3 3 1 \n",
      "1 4 6 4 1 \n",
      "1 5 10 10 5 1 \n",
      "1 6 15 20 15 6 1 \n",
      "1 7 21 35 35 21 7 1 \n",
      "1 8 28 56 70 56 28 8 1 \n",
      "1 9 36 84 126 126 84 36 9 1 \n"
     ]
    },
    {
     "data": {
      "text/html": [
       "<code>#t</code>"
      ],
      "text/plain": [
       "#t"
      ]
     },
     "execution_count": 23,
     "metadata": {},
     "output_type": "execute_result"
    }
   ],
   "source": [
    "(define (p level pos)\n",
    "  (cond  ((< pos 0) 0)\n",
    "         ((or (= level 0) (= pos level)) 1)\n",
    "         (else (+ (p (- level 1) (- pos 1)) (p (- level 1) pos)))))\n",
    "\n",
    "; print the output\n",
    "(define (display-p level)\n",
    "  (define (disp-cols counter lvl)\n",
    "    (cond ((> counter lvl) #t)\n",
    "          (else (display (p lvl counter))(display \" \")\n",
    "                (disp-cols (+ 1 counter) lvl))))\n",
    "  (define (disp-rows counter lvl)\n",
    "    (cond ((>= counter level) #t)\n",
    "          (else (disp-cols 0 lvl)(newline)\n",
    "                (disp-rows (+ 1 counter) (+ 1 lvl)))))\n",
    "  (disp-rows 0 0))\n",
    "\n",
    "(display-p 10)"
   ]
  },
  {
   "attachments": {},
   "cell_type": "markdown",
   "metadata": {},
   "source": [
    "### Exercise 1.13:\n",
    "Prove that Fib(n) is the closest integer to $\\frac{\\varphi^{n}}{\\sqrt{5}}$, where $\\varphi = \\frac{1 + \\sqrt{5}}{2}$. Hint: Let $\\psi = \\frac{1 - \\sqrt{5}}{2}$. Use induction and the definition of the Fibonacci numbers (see Section 1.2.2) to prove that Fib(n) = $\\frac{(\\varphi^{n} - \\psi^{n})}{\\sqrt{5}}$."
   ]
  },
  {
   "attachments": {},
   "cell_type": "markdown",
   "metadata": {},
   "source": [
    "#### Proof\n",
    "1. Ratio of two fibonacci numbers is the golden ratio $\\varphi$\n",
    "2. It can be proven that $\\varphi ^{2} - \\varphi - 1 = 0$\n",
    "3. This quadratic formula yields two solutions $\\frac{1 + \\sqrt{5}}{2}$ and $\\frac{1 - \\sqrt{5}}{2}$\n",
    "4. Since $\\psi = \\frac{1 - \\sqrt{5}}{2}$ is one of the solutions to the equation, $\\psi ^{2} - \\psi - 1 = 0$ is also true.\n",
    "5. $\\psi$ is the negative inverse of $\\varphi$. i.e. $\\varphi = -\\frac{1}{\\psi}$\n",
    "\n",
    "Lets start with this equation\n",
    "$\\newline Fib(n)=Fib(n-1) + Fib(n-2)$\n",
    "\n",
    "We will substitute the expected value and prove that LHS = RHS. So now the equation becomes:\n",
    "$\\newline \\frac{(\\varphi ^{n} - \\psi ^{n})}{\\sqrt{5}} = \\frac{(\\varphi ^{n-1} - \\psi ^{n-1})}{\\sqrt{5}} + \\frac{(\\varphi ^{n-2} - \\psi ^{n-2})}{\\sqrt{5}}$\n",
    "\n",
    "$\\newline => (\\varphi ^{n} - \\psi ^{n}) = (\\varphi ^{n-1} - \\psi ^{n-1}) + (\\varphi ^{n-2} - \\psi ^{n-2})$\n",
    "\n",
    "$\\newline => (\\varphi ^{n} - \\psi ^{n}) = (\\varphi ^{n-1} + \\varphi ^{n-2}) - (\\psi ^{n-1} + \\psi ^{n-2})$\n",
    "\n",
    "$\\newline => \\varphi ^{n} - \\psi ^{n} = \\varphi ^{n-2}(1 + \\varphi) - \\psi ^{n-2} (1 + \\psi)$\n",
    "\n",
    "From the Golden Ratio equations, we know that the following is true:\n",
    "$\\newline \\varphi ^{2} - \\varphi = 1$\n",
    "$\\newline \\psi ^{2} - \\psi = 1$\n",
    "\n",
    "So by substituting the values, we get\n",
    "$\\newline => \\varphi ^{n} - \\psi ^{n} = \\varphi ^{n-2}(\\varphi^2) - \\psi ^{n-2} (\\psi^2)$\n",
    "$\\newline => \\varphi ^{n} - \\psi ^{n} = \\varphi ^{n} - \\psi ^{n}$\n",
    "\n",
    "Since LHS = RHS, the equation $Fib(n) = \\frac{(\\varphi ^{n} - \\psi ^{n})}{\\sqrt{5}}$ is true.\n",
    "\n",
    "This equation can be reduced further as below:\n",
    "$\\newline => Fib(n) = \\frac{\\varphi ^{n}}{\\sqrt{5}}(1 - (\\frac{\\psi}{\\varphi})^{n})$\n",
    "\n",
    "$\\newline => Fib(n) = \\frac{\\varphi ^{n}}{\\sqrt{5}}(1 - (-\\psi^{2})^{n})$\n",
    "\n",
    "$\\newline => Fib(n) = \\frac{\\varphi ^{n}}{\\sqrt{5}}(1 \\pm  \\psi^{2n})$\n",
    "\n",
    "The value of $\\psi = -0.618033$ implies that =>  $0 < \\psi^{2n} < 1$, where n >= 0, where it exponentially gets close to 0 as `n` value increases.\n",
    "\n",
    "Thus, the closest integer for $Fib(n)$ is $\\frac{\\varphi ^{n}}{\\sqrt{5}}$\n",
    "\n",
    "\n"
   ]
  }
 ],
 "metadata": {
  "kernelspec": {
   "display_name": "Racket",
   "language": "racket",
   "name": "racket"
  },
  "language_info": {
   "codemirror_mode": "scheme",
   "file_extension": ".rkt",
   "mimetype": "text/x-racket",
   "name": "Racket",
   "pygments_lexer": "racket",
   "version": "8.7"
  },
  "orig_nbformat": 4,
  "vscode": {
   "interpreter": {
    "hash": "16ce40fbc98770237041b07aeb4e965f5f87483ca0b0ac7181bc5c42d1a7353d"
   }
  }
 },
 "nbformat": 4,
 "nbformat_minor": 2
}
