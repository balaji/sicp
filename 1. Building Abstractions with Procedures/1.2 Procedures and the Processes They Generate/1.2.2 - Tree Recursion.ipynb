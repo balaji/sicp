{
 "cells": [
  {
   "attachments": {},
   "cell_type": "markdown",
   "metadata": {},
   "source": [
    "### Exercise 1.11: \n",
    "\n",
    "A function f is defined by the rule that\n",
    "\n",
    "$$f(n) = \\left\\{\\begin{matrix}\n",
    "n & if  & n < 3\\\\ \n",
    "f(n-1) + 2f(n-1)+3f(n-3) & if & n \\geq 3\n",
    "\\end{matrix}\\right.$$\n",
    "\n",
    "Write a procedure that computes f by means of a recursive process.\n",
    "\n",
    "Write a procedure that computes f by means of an iterative process."
   ]
  },
  {
   "attachments": {},
   "cell_type": "markdown",
   "metadata": {},
   "source": [
    "### Exercise 1.12: \n",
    "The following pattern of numbers is called Pascal’s triangle.\n",
    "\n",
    "```\n",
    "    1\n",
    "   1 1\n",
    "  1 2 1\n",
    " 1 3 3 1\n",
    "1 4 6 4 1\n",
    "  . . .\n",
    "```\n",
    "Thee numbers at the edge of the triangle are all 1, and each number inside the triangle is the sum of the two numbers above it. Write a procedure that computes elements of Pascal’s triangle by means of a recursive process."
   ]
  },
  {
   "attachments": {},
   "cell_type": "markdown",
   "metadata": {},
   "source": [
    "### Exercise 1.13:\n",
    "Prove that Fib(n) is the closest integer to $\\frac{\\varphi^{n}}{\\sqrt{5}}$, where $\\varphi = \\frac{1 + \\sqrt{5}}{2}$. Hint: Let $\\psi = \\frac{1 - \\sqrt{5}}{2}$. Use induction and the definition of the Fibonacci numbers (see Section 1.2.2) to prove that Fib(n) = $\\frac{(\\varphi^{n} - \\psi^{n})}{\\sqrt{5}}$."
   ]
  }
 ],
 "metadata": {
  "kernelspec": {
   "display_name": "Python 3",
   "language": "python",
   "name": "python3"
  },
  "language_info": {
   "codemirror_mode": {
    "name": "ipython",
    "version": 3
   },
   "file_extension": ".py",
   "mimetype": "text/x-python",
   "name": "python",
   "nbconvert_exporter": "python",
   "pygments_lexer": "ipython3",
   "version": "3.9.11"
  },
  "orig_nbformat": 4,
  "vscode": {
   "interpreter": {
    "hash": "16ce40fbc98770237041b07aeb4e965f5f87483ca0b0ac7181bc5c42d1a7353d"
   }
  }
 },
 "nbformat": 4,
 "nbformat_minor": 2
}
