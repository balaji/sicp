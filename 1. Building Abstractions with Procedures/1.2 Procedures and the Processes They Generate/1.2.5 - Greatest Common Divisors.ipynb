{
 "cells": [
  {
   "attachments": {},
   "cell_type": "markdown",
   "metadata": {},
   "source": [
    "### GCD function:"
   ]
  },
  {
   "cell_type": "code",
   "execution_count": 1,
   "metadata": {
    "vscode": {
     "languageId": "racket"
    }
   },
   "outputs": [
    {
     "name": "stderr",
     "output_type": "stream",
     "text": [
      "r: undefined;\n",
      " cannot reference an identifier before its definition\n",
      "  in module: top-level\n",
      "  context...:\n",
      "   body of top-level\n",
      "   eval:1:0: gcd\n"
     ]
    }
   ],
   "source": [
    "(define (gcd a b)\n",
    "  (if (= b 0)\n",
    "      a\n",
    "      (gcd b (r a b))))\n",
    "\n",
    "(gcd 28 16)"
   ]
  },
  {
   "attachments": {},
   "cell_type": "markdown",
   "metadata": {},
   "source": [
    "### Exercise 1.20: \n",
    "The process that a procedure generates is of course dependent on the rules used by the interpreter. As an example, consider the iterative gcd procedure given above. Suppose we were to interpret this procedure using normal-order evaluation, as discussed in [Section 1.1.5](https://mitp-content-server.mit.edu/books/content/sectbyfn/books_pres_0/6515/sicp.zip/full-text/book/book-Z-H-10.html#%_sec_1.1.5). (The normal-order-evaluation rule for if is described in [Exercise 1.5](./../1.1%20The%20Elements%20of%20Programming/1.1.8%20-%20Expressions%20and%20Compound%20Procedures.ipynb#exercise-15).) Using the substitution method (for normal order), illustrate the process generated in evaluating `(gcd 206 40)` and indicate the r operations that are actually performed. How many r operations are actually performed in the normal-order evaluation of `(gcd 206 40)`? In the applicative-order evaluation?"
   ]
  },
  {
   "attachments": {},
   "cell_type": "markdown",
   "metadata": {},
   "source": [
    "#### Answer:\n",
    "\n",
    "Normal-Order execution:\n",
    "\n",
    "```scheme\n",
    "(define (r a b) (remainder a b))\n",
    "\n",
    "; (gcd 206 40)\n",
    "(if (= 40 0)\n",
    "    ...\n",
    "    (gcd 40 (r 206 40)))\n",
    "\n",
    "; (gcd 40 (r 206 40))\n",
    "(if (= 6 0) ;(r 206 40) = 6\n",
    "    ...\n",
    "    (gcd (r 206 40) (r 40 (r 206 40)))))\n",
    "\n",
    "; # of remainder's = 1\n",
    "\n",
    "; (gcd (r 206 40) (r 40 (r 206 40)))\n",
    "(if (= 4 0) ; (r 40 (r 206 40)) = 4\n",
    "    ...\n",
    "    (gcd (r 40 (r 206 40)) (r (r 206 40) (r 40 (r 206 40)))))\n",
    "\n",
    "; # of remainder's = 2\n",
    "\n",
    ";(gcd (r 40 (r 206 40)) (r (r 206 40) (r 40 (r 206 40))))\n",
    "(if (= 2 0) ; (r (r 206 40) (r 40 (r 206 40))) = 2\n",
    "    ...\n",
    "    (gcd (r (r 206 40) (r 40 (r 206 40))) (r (r 40 (r 206 40)) (r (r 206 40) (r 40 (r 206 40))))))\n",
    "\n",
    "; # of remainder's = 4\n",
    "\n",
    "; (gcd (r (r 206 40) (r 40 (r 206 40))) (r (r 40 (r 206 40)) (r (r 206 40) (r 40 (r 206 40))))))\n",
    "(if (= 0 0) ; (r (r 40 (r 206 40)) (r (r 206 40) (r 40 (r 206 40)))) = 0\n",
    "    2 ; (r (r 206 40) (r 40 (r 206 40))) = 2\n",
    "    ...)\n",
    "\n",
    "; # of remainder's = 11\n",
    "```\n",
    "Total = 1 + 2 + 4 + 11 = 18 times\n",
    "\n",
    "Applicative-order execution:\n",
    "```scheme\n",
    "; (gcd 206 40)\n",
    "(if (= 40 0)\n",
    "    ...\n",
    "    (gcd 40 6)) ; (r 206 40) = 6\n",
    "; # of remainder's = 1\n",
    "\n",
    "; (gcd 40 6)\n",
    "(if (= 6 0)\n",
    "    ...\n",
    "    (gcd 6 4)) ; (r 40 6) = 4\n",
    "; # of remainder's = 1\n",
    "\n",
    "; (gcd 6 4)\n",
    "(if (= 4 0)\n",
    "    ...\n",
    "    (gcd 4 2)) ; (r 6 4) = 2\n",
    "; # of remainder's = 1\n",
    "\n",
    "; (gcd 4 2)\n",
    "(if (= 2 0)\n",
    "    ...\n",
    "    (gcd 2 0)) ; (r 4 2) = 0\n",
    "; # of remainder's = 1\n",
    "\n",
    "; (gcd 2 0)\n",
    "(if (= 0 0)\n",
    "    2\n",
    "    ...)\n",
    "```\n",
    "Total = 1 + 1 + 1 + 1 = 4 times"
   ]
  }
 ],
 "metadata": {
  "kernelspec": {
   "display_name": "Racket",
   "language": "racket",
   "name": "racket"
  },
  "language_info": {
   "codemirror_mode": "scheme",
   "file_extension": ".rkt",
   "mimetype": "text/x-racket",
   "name": "Racket",
   "pygments_lexer": "racket",
   "version": "8.7"
  },
  "orig_nbformat": 4,
  "vscode": {
   "interpreter": {
    "hash": "16ce40fbc98770237041b07aeb4e965f5f87483ca0b0ac7181bc5c42d1a7353d"
   }
  }
 },
 "nbformat": 4,
 "nbformat_minor": 2
}
