{
 "cells": [
  {
   "cell_type": "code",
   "execution_count": 3,
   "metadata": {
    "vscode": {
     "languageId": "racket"
    }
   },
   "outputs": [
    {
     "data": {
      "text/html": [
       "<code>#f</code>"
      ],
      "text/plain": [
       "#f"
      ]
     },
     "execution_count": 3,
     "metadata": {},
     "output_type": "execute_result"
    }
   ],
   "source": [
    "(define (square n) (* n n))\n",
    "(define (divides? a b) (= (remainder b a) 0))\n",
    "(define (inc n) (+ 1 n))\n",
    "(define (smallest-divisor n)\n",
    "  (define (find-divisor test-divisor)\n",
    "    (cond ((> (square test-divisor) n) n)\n",
    "          ((divides? test-divisor n) test-divisor)\n",
    "          (else (find-divisor (inc test-divisor)))))\n",
    "  (find-divisor 2))\n",
    "\n",
    "(define (prime? n) (= n (smallest-divisor n)))\n",
    "(prime? 12)"
   ]
  },
  {
   "attachments": {},
   "cell_type": "markdown",
   "metadata": {},
   "source": [
    "### Exercise 1.21: \n",
    "Use the smallest-divisor procedure to find the smallest divisor of each of the following numbers: `199, 1999, 19999`\n",
    "#### Answer:"
   ]
  },
  {
   "cell_type": "code",
   "execution_count": 4,
   "metadata": {
    "vscode": {
     "languageId": "racket"
    }
   },
   "outputs": [
    {
     "data": {
      "text/html": [
       "<code>199</code>"
      ],
      "text/plain": [
       "199"
      ]
     },
     "execution_count": 4,
     "metadata": {},
     "output_type": "execute_result"
    }
   ],
   "source": [
    "(smallest-divisor 199)"
   ]
  },
  {
   "cell_type": "code",
   "execution_count": 5,
   "metadata": {
    "vscode": {
     "languageId": "racket"
    }
   },
   "outputs": [
    {
     "data": {
      "text/html": [
       "<code>1999</code>"
      ],
      "text/plain": [
       "1999"
      ]
     },
     "execution_count": 5,
     "metadata": {},
     "output_type": "execute_result"
    }
   ],
   "source": [
    "(smallest-divisor 1999)"
   ]
  },
  {
   "cell_type": "code",
   "execution_count": 6,
   "metadata": {
    "vscode": {
     "languageId": "racket"
    }
   },
   "outputs": [
    {
     "data": {
      "text/html": [
       "<code>7</code>"
      ],
      "text/plain": [
       "7"
      ]
     },
     "execution_count": 6,
     "metadata": {},
     "output_type": "execute_result"
    }
   ],
   "source": [
    "(smallest-divisor 19999)"
   ]
  },
  {
   "cell_type": "markdown",
   "metadata": {},
   "source": []
  },
  {
   "attachments": {},
   "cell_type": "markdown",
   "metadata": {},
   "source": [
    "### Exercise 1.22: \n",
    "Most Lisp implementations include a primitive called `runtime` that returns an integer that specifies the amount of time the system has been running (measured, for example, in microseconds). The following `timed-prime-test` procedure, when called with an integer *n*, prints *n* and checks to see if *n* is prime. If *n* is prime, the procedure prints three asterisks followed by the amount of time used in performing the test.\n",
    "```scheme\n",
    "(define (timed-prime-test n)\n",
    "  (newline)\n",
    "  (display n)\n",
    "  (start-prime-test n (runtime)))\n",
    "(define (start-prime-test n start-time)\n",
    "  (if (prime? n)\n",
    "      (report-prime (- (runtime) start-time))))\n",
    "(define (report-prime elapsed-time)\n",
    "  (display \" *** \")\n",
    "  (display elapsed-time))\n",
    "```\n",
    "Using this procedure, write a procedure `search-for-primes` that checks the primality of consecutive odd integers in a specified range. Use your procedure to find the three smallest primes larger than 1000; larger than 10,000; larger than 100,000; larger than 1,000,000. Note the time needed to test each prime. Since the testing algorithm has order of growth of $\\theta (\\sqrt{n})$, you should expect that testing for primes around 10,000 should take about $\\sqrt{10}$ times as long as testing for primes around 1000. Do your timing data bear this out? How well do the data for 100,000 and 1,000,000 support the $\\theta (\\sqrt{n})$ prediction? Is your result compatible with the notion that programs on your machine run in time proportional to the number of steps required for the computation?\n",
    "\n",
    "#### Answer:\n",
    "I've made some tweaks to the `timed-prime-test` function, such that\n",
    "1. It prints numbers *only* when they are prime\n",
    "2. It returns `true` if the number is prime, `false` otherwise.\n",
    "\n",
    "the procedure is below:"
   ]
  },
  {
   "cell_type": "code",
   "execution_count": 7,
   "metadata": {
    "vscode": {
     "languageId": "racket"
    }
   },
   "outputs": [],
   "source": [
    "; iracket (the racket kernel used in this notebook) does not support #lang changes.\n",
    "; That is, #lang is a syntax for whole modules, whereas both the REPL and Jupyter\n",
    "; work with top-level forms and generally receive them one at a time.\n",
    "; Hence this workaround. Found this in sicp-solutions.net.\n",
    "(define (runtime) (current-inexact-milliseconds))\n",
    "\n",
    "(define (timed-prime-test n)\n",
    "  (start-prime-test n (runtime)))\n",
    "(define (start-prime-test n start-time)\n",
    "  (if (prime? n)\n",
    "      (report-prime n (- (runtime) start-time))\n",
    "      #f))\n",
    "(define (report-prime n elapsed-time)\n",
    "  (display n)\n",
    "  (display \" *** \")\n",
    "  (display elapsed-time)\n",
    "  (newline)\n",
    "  #t)"
   ]
  },
  {
   "attachments": {},
   "cell_type": "markdown",
   "metadata": {},
   "source": [
    "Given below is a procedure that checks primality of odd integers within a range - `start` and `end`. It also takes a `limit` parameter which indicates the number of prime numbers the procedure should print and exit. The procedure will stop when we reach the `limit` or when we reach the end of the range."
   ]
  },
  {
   "cell_type": "code",
   "execution_count": 8,
   "metadata": {
    "vscode": {
     "languageId": "racket"
    }
   },
   "outputs": [],
   "source": [
    "(define (search-for-primes limit start end)\n",
    "  (cond ((= limit 0) #t)\n",
    "        ((> start end) #f)\n",
    "        ((timed-prime-test start) (search-for-primes (- limit 1) (+ 2 start) end))\n",
    "        (else (search-for-primes limit (if (even? start) (+ 1 start) (+ 2 start)) end))))"
   ]
  },
  {
   "cell_type": "code",
   "execution_count": 9,
   "metadata": {
    "vscode": {
     "languageId": "racket"
    }
   },
   "outputs": [
    {
     "name": "stdout",
     "output_type": "stream",
     "text": [
      "1009 *** 0.0009765625\n",
      "1013 *** 0.0\n",
      "1019 *** 0.0009765625\n",
      "10007 *** 0.0009765625\n",
      "10009 *** 0.001953125\n",
      "10037 *** 0.001220703125\n",
      "100003 *** 0.00390625\n",
      "100019 *** 0.004150390625\n",
      "100043 *** 0.00390625\n",
      "1000003 *** 0.011962890625\n",
      "1000033 *** 0.010986328125\n",
      "1000037 *** 0.011962890625\n"
     ]
    },
    {
     "data": {
      "text/html": [
       "<code>#t</code>"
      ],
      "text/plain": [
       "#t"
      ]
     },
     "execution_count": 9,
     "metadata": {},
     "output_type": "execute_result"
    }
   ],
   "source": [
    "(search-for-primes 3 1000 1100)\n",
    "(search-for-primes 3 10000 10100)\n",
    "(search-for-primes 3 100000 100100)\n",
    "(search-for-primes 3 1000000 1000100)"
   ]
  },
  {
   "attachments": {},
   "cell_type": "markdown",
   "metadata": {},
   "source": [
    "$\\sqrt{10}$ is 3.16227766\n",
    "| range| average | times $\\sqrt{10}$ |\n",
    "|---|---|---|\n",
    "| 1000| 0.000976 | 0.003086 |\n",
    "| 10000 | 0.00195 | 0.006166|\n",
    "| 100000| 0.00415| 0.013123|\n",
    "| 1000000| 0.01196| ---|\n",
    "\n",
    "While the output is faster (and probably machine dependent) the `x 10`s growth runtime is proportional to $\\sqrt{10}$ times across the range."
   ]
  },
  {
   "attachments": {},
   "cell_type": "markdown",
   "metadata": {},
   "source": [
    "### Exercise 1.23: \n",
    "The `smallest-divisor` procedure shown at the start of this section does lots of needless testing: After it checks to see if the number is divisible by 2 there is no point in checking to see if it is divisible by any larger even numbers. This suggests that the values used for `test-divisor` should not be 2, 3, 4, 5, 6, . . ., but rather 2, 3, 5, 7, 9, . . .. To implement this change, define a procedure next that returns 3 if its input is equal to 2 and otherwise returns its input plus 2. Modify the `smallest-divisor` procedure to use `(next test-divisor)` instead of `(+ test-divisor 1)`. With timed-prime-test incorporating this modified version of `smallest-divisor`, run the test for each of the 12 primes found in Exercise 1.22. Since this modification halves the number of test steps, you should expect it to run about twice as fast. Is this expectation confirmed? If not, what is the observed ratio of the speeds of the two algorithms, and how do you explain the fact that it is different from 2?\n",
    "\n",
    "#### Answer:"
   ]
  },
  {
   "cell_type": "code",
   "execution_count": 10,
   "metadata": {
    "vscode": {
     "languageId": "racket"
    }
   },
   "outputs": [],
   "source": [
    "(define (next n) (if (even? n) (+ 1 n) (+ 2 n)))\n",
    "(define (smallest-divisor n)\n",
    "  (define (find-divisor test-divisor)\n",
    "    (cond ((> (square test-divisor) n) n)\n",
    "          ((divides? test-divisor n) test-divisor)\n",
    "          (else (find-divisor (next test-divisor)))))\n",
    "  (find-divisor 2))"
   ]
  },
  {
   "cell_type": "code",
   "execution_count": 11,
   "metadata": {
    "vscode": {
     "languageId": "racket"
    }
   },
   "outputs": [
    {
     "name": "stdout",
     "output_type": "stream",
     "text": [
      "1009 *** 0.0009765625\n",
      "1013 *** 0.0\n",
      "1019 *** 0.0\n",
      "10007 *** 0.0\n",
      "10009 *** 0.0009765625\n",
      "10037 *** 0.0009765625\n",
      "100003 *** 0.001953125\n",
      "100019 *** 0.002197265625\n",
      "100043 *** 0.001953125\n",
      "1000003 *** 0.006103515625\n",
      "1000033 *** 0.005859375\n",
      "1000037 *** 0.007080078125\n"
     ]
    },
    {
     "data": {
      "text/html": [
       "<code>#t</code>"
      ],
      "text/plain": [
       "#t"
      ]
     },
     "execution_count": 11,
     "metadata": {},
     "output_type": "execute_result"
    }
   ],
   "source": [
    "(search-for-primes 3 1000 1100)\n",
    "(search-for-primes 3 10000 10100)\n",
    "(search-for-primes 3 100000 100100)\n",
    "(search-for-primes 3 1000000 1000100)"
   ]
  },
  {
   "attachments": {},
   "cell_type": "markdown",
   "metadata": {},
   "source": [
    "| range| average | average (optimized procedure) |\n",
    "|---|---|---|\n",
    "| 1000| 0.000976 | 0.000976 |\n",
    "| 10000 | 0.00195 | 0.000976|\n",
    "| 100000| 0.00415| 0.0029296|\n",
    "| 1000000| 0.01196| 0.007080|\n",
    "\n",
    "The execution time tends towards a reduction in half as it processes larger numbers."
   ]
  },
  {
   "attachments": {},
   "cell_type": "markdown",
   "metadata": {},
   "source": [
    "### Exercise 1.24: \n",
    "Modify the timed-prime-test procedure of Exercise 1.22 to use `fast-prime`? (the Fermat method), and test each of the 12 primes you found in that exercise. Since the Fermat test has `Θ(log n)` growth, how would you expect the time to test primes near 1,000,000 to compare with the time needed to test primes near 1000? Do your data bear this out? Can you explain any discrepancy you find?\n",
    "\n",
    "#### Answer:"
   ]
  },
  {
   "cell_type": "code",
   "execution_count": 12,
   "metadata": {
    "vscode": {
     "languageId": "racket"
    }
   },
   "outputs": [
    {
     "name": "stdout",
     "output_type": "stream",
     "text": [
      "1009 *** 0.0009765625\n",
      "1013 *** 0.0009765625\n",
      "1019 *** 0.0009765625\n",
      "10007 *** 0.002197265625\n",
      "10009 *** 0.001953125\n",
      "10037 *** 0.0009765625\n",
      "100003 *** 0.001953125\n",
      "100019 *** 0.0009765625\n",
      "100043 *** 0.001953125\n",
      "1000003 *** 0.0009765625\n",
      "1000033 *** 0.001953125\n",
      "1000037 *** 0.0009765625\n"
     ]
    },
    {
     "data": {
      "text/html": [
       "<code>#t</code>"
      ],
      "text/plain": [
       "#t"
      ]
     },
     "execution_count": 12,
     "metadata": {},
     "output_type": "execute_result"
    }
   ],
   "source": [
    "(define (expmod base exp m)\n",
    "  (cond ((= exp 0) 1)\n",
    "        ((even? exp) (remainder (square (expmod base (/ exp 2) m)) m))\n",
    "        (else (remainder (* base (expmod base (- exp 1) m)) m))))\n",
    "\n",
    "(define (fermat-test n)\n",
    "  (define (try-it a)\n",
    "    (= (expmod a n n) a))\n",
    "  (try-it (+ 1 (random (- n 1)))))\n",
    "\n",
    "(define (fast-prime? n times)\n",
    "  (cond ((= times 0) #t)\n",
    "        ((fermat-test n) (fast-prime? n (- times 1)))\n",
    "        (else #f)))\n",
    "\n",
    "(define (start-prime-test n start-time)\n",
    "  (if (fast-prime? n 3)\n",
    "      (report-prime n (- (runtime) start-time))\n",
    "      #f))\n",
    "\n",
    "(search-for-primes 3 1000 1100)\n",
    "(search-for-primes 3 10000 10100)\n",
    "(search-for-primes 3 100000 100100)\n",
    "(search-for-primes 3 1000000 1000100)"
   ]
  },
  {
   "attachments": {},
   "cell_type": "markdown",
   "metadata": {},
   "source": [
    "The growth of `fast-prime?` procedure is logarithmic and $\\log 10$'s value is 1. i.e. we would expect a constant execution time irrespective of the number.\n",
    "\n",
    "This observation is proven from the numbers seen:\n",
    "| range| average |\n",
    "|---|---|\n",
    "| 1000| 0.000976 |\n",
    "| 10000 | 0.000976 |\n",
    "| 100000| 0.000976|\n",
    "| 1000000| 0.000976|"
   ]
  },
  {
   "attachments": {},
   "cell_type": "markdown",
   "metadata": {},
   "source": [
    "### Exercise 1.25: \n",
    "Alyssa P. Hacker complains that we went to a lot of extra work in writing `expmod`. After all, she says, since we already know how to compute exponentials, we could have simply written\n",
    "```scheme\n",
    "(define (expmod base exp m)\n",
    "  (remainder (fast-expt base exp) m))\n",
    "```\n",
    "Is she correct? Would this procedure serve as well for our fast prime tester? Explain."
   ]
  },
  {
   "attachments": {},
   "cell_type": "markdown",
   "metadata": {},
   "source": [
    "#### Answer:\n",
    "She is not correct. In the `expmod` function we compute the remainder of $b^{\\frac{e}{2}}$ modulo `m`, square this, and take the remainder modulo `m`. This technique is useful because it means we can perform our computation without ever having to deal with numbers much larger than `m`. In Alyssa P. Hacker's version, we take the modulo *after* computing the exponential number. This will be compute intensive - for the same about of steps."
   ]
  },
  {
   "attachments": {},
   "cell_type": "markdown",
   "metadata": {},
   "source": [
    "### Exercise 1.26: \n",
    "Louis Reasoner is having great difficulty doing Exercise 1.24. His `fast-prime?` test seems to run more slowly than his `prime?` test. Louis calls his friend Eva Lu Ator over to help. When they examine Louis’s code, they find that he has rewritten the expmod procedure to use an explicit multiplication, rather than calling square:\n",
    "```scheme\n",
    "(define (expmod base exp m)\n",
    "  (cond ((= exp 0) 1)\n",
    "        ((even? exp)\n",
    "         (remainder (* (expmod base (/ exp 2) m)\n",
    "                       (expmod base (/ exp 2) m))\n",
    "                    m))\n",
    "        (else\n",
    "         (remainder (* base\n",
    "                        (expmod base (- exp 1) m))\n",
    "                    m))))\n",
    "```\n",
    "“I don’t see what difference that could make,” says Louis. “I do.” says Eva. “By writing the procedure like that, you have transformed the `Θ(log n)` process into a `Θ(n)` process.” Explain.\n",
    "\n",
    "#### Answer:\n",
    "- Since scheme follows *applicative-order* execution, the explicit multiplication procedure would invoke `expmod` twice for every invocation, resulting in $2^n$ invocations.\n",
    "- The order of growth becomes $\\theta(\\log(2^n))$, which is $\\theta(n \\log 2)$, which is $\\theta(n)$"
   ]
  },
  {
   "attachments": {},
   "cell_type": "markdown",
   "metadata": {},
   "source": [
    "### Exercise 1.27: \n",
    "Demonstrate that the Carmichael numbers listed in Footnote 1.47 really do fool the Fermat test. that is, write a procedure that takes an integer *n* and tests whether $a^n$ is congruent to a modulo *n* for every $a < n$, and try your procedure on the given Carmichael numbers.\n",
    "\n",
    "#### Answer:\n",
    "Modifying `fermat-test` to suit the problem."
   ]
  },
  {
   "cell_type": "code",
   "execution_count": 13,
   "metadata": {
    "vscode": {
     "languageId": "racket"
    }
   },
   "outputs": [
    {
     "name": "stdout",
     "output_type": "stream",
     "text": [
      "#t\n",
      "#t\n",
      "#t\n",
      "#t\n",
      "#t\n",
      "#t\n"
     ]
    }
   ],
   "source": [
    "(define (carmichael-number? n)\n",
    "  (define (try-it acc)\n",
    "    (cond ((= acc 1) #t)\n",
    "          ((not (= (expmod acc n n) acc)) #f)\n",
    "          (else (try-it (- acc 1)))))\n",
    "  (try-it (- n 1)))\n",
    "\n",
    "(display (carmichael-number? 561))(newline)\n",
    "(display (carmichael-number? 1105))(newline)\n",
    "(display (carmichael-number? 1729))(newline)\n",
    "(display (carmichael-number? 2465))(newline)\n",
    "(display (carmichael-number? 2821))(newline)\n",
    "(display (carmichael-number? 6601))(newline)"
   ]
  },
  {
   "attachments": {},
   "cell_type": "markdown",
   "metadata": {},
   "source": [
    "### Exercise 1.28: \n",
    "One variant of the Fermat test that cannot be fooled is called the Miller-Rabin test (Miller 1976; Rabin 1980). This starts from an alternate form of Fermat’s Little Theorem, which states that if $n$ is a prime number and $a$ is any positive integer less than $n$, then $a$ raised to the $(n-1)^{st}$ power is congruent to 1 modulo n. To test the primality of a number n by the Miller-Rabin test, we pick a random number $a < n$ and raise a to the $(n-1)^{st}$ power modulo n using the expmod procedure. However, whenever we perform the squaring step in `expmod`, we check to see if we have discovered a “nontrivial square root of 1 modulo n,” that is, a number not equal to 1 or n-1 whose square is equal to 1 modulo n. It is possible to prove that if such a nontrivial square root of 1 exists, then $n$ is not prime. It is also possible to prove that if n is an odd number that is not prime, then, for at least half the numbers $a < n$, computing $a^{n-1}$ in this way will reveal a nontrivial square root of 1 modulo n. (This is why the Miller-Rabin test cannot be fooled.) Modify the `expmod` procedure to signal if it discovers a nontrivial square root of 1, and use this to implement the Miller-Rabin test with a procedure analogous to fermat-test. Check your procedure by testing various known primes and non-primes. Hint: One convenient way to make expmod signal is to have it return 0\n",
    "\n",
    "#### Answer\n",
    "This is fairly straightforward if you were able to follow along the hints given in the problem."
   ]
  },
  {
   "cell_type": "code",
   "execution_count": 18,
   "metadata": {
    "vscode": {
     "languageId": "racket"
    }
   },
   "outputs": [
    {
     "name": "stdout",
     "output_type": "stream",
     "text": [
      "#t\n",
      "#f"
     ]
    }
   ],
   "source": [
    "(define (remainder-mr-test x y)\n",
    "  (if (and (not (= x 1))\n",
    "           (not (= x (- y 1)))\n",
    "           (= (remainder (* x x) y) 1))\n",
    "      0\n",
    "      (remainder (* x x) y)))\n",
    "\n",
    "(define (expmod-mr-test base exp m)\n",
    "  (cond ((= exp 0) 1)\n",
    "        ((even? exp) (remainder-mr-test (expmod-mr-test base (/ exp 2) m) m))\n",
    "        (else (remainder (* base (expmod-mr-test base (- exp 1) m)) m))))\n",
    "\n",
    "(define (miller-rabin-test n)\n",
    "  (define (try-it a)\n",
    "    (= (expmod-mr-test a (- n 1) n) 1))\n",
    "  (try-it (+ 1 (random (- n 1)))))\n",
    "\n",
    "(define (fast-prime-mr-test? n times)\n",
    "  (cond ((= times 0) #t)\n",
    "        ((miller-rabin-test n) (fast-prime-mr-test? n (- times 1)))\n",
    "        (else #f)))\n",
    "\n",
    "(display (fast-prime? 561 1)) (newline)\n",
    "(display (fast-prime-mr-test? 561 1))"
   ]
  }
 ],
 "metadata": {
  "kernelspec": {
   "display_name": "Racket",
   "language": "racket",
   "name": "racket"
  },
  "language_info": {
   "codemirror_mode": "scheme",
   "file_extension": ".rkt",
   "mimetype": "text/x-racket",
   "name": "Racket",
   "pygments_lexer": "racket",
   "version": "8.7"
  },
  "orig_nbformat": 4
 },
 "nbformat": 4,
 "nbformat_minor": 2
}
