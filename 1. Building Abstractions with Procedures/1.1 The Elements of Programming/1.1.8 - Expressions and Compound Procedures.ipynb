{
 "cells": [
  {
   "attachments": {},
   "cell_type": "markdown",
   "id": "b5773806",
   "metadata": {},
   "source": [
    "### Exercise 1.1:\n",
    "Below is a sequence of expressions. What is the result printed by the interpreter in response to each expression? Assume that the sequence is to be evaluated in the order in which it is presented."
   ]
  },
  {
   "cell_type": "code",
   "execution_count": 1,
   "id": "f960bf64",
   "metadata": {},
   "outputs": [
    {
     "data": {
      "text/html": [
       "<code>10</code>"
      ],
      "text/plain": [
       "10"
      ]
     },
     "execution_count": 1,
     "metadata": {},
     "output_type": "execute_result"
    }
   ],
   "source": [
    "10"
   ]
  },
  {
   "cell_type": "code",
   "execution_count": 2,
   "id": "ac3a6ae6",
   "metadata": {},
   "outputs": [
    {
     "data": {
      "text/html": [
       "<code>12</code>"
      ],
      "text/plain": [
       "12"
      ]
     },
     "execution_count": 2,
     "metadata": {},
     "output_type": "execute_result"
    }
   ],
   "source": [
    "(+ 5 3 4)"
   ]
  },
  {
   "cell_type": "code",
   "execution_count": 3,
   "id": "0b7e24d2",
   "metadata": {},
   "outputs": [
    {
     "data": {
      "text/html": [
       "<code>8</code>"
      ],
      "text/plain": [
       "8"
      ]
     },
     "execution_count": 3,
     "metadata": {},
     "output_type": "execute_result"
    }
   ],
   "source": [
    "(- 9 1)"
   ]
  },
  {
   "cell_type": "code",
   "execution_count": 4,
   "id": "3843b6c3",
   "metadata": {},
   "outputs": [
    {
     "data": {
      "text/html": [
       "<code>3</code>"
      ],
      "text/plain": [
       "3"
      ]
     },
     "execution_count": 4,
     "metadata": {},
     "output_type": "execute_result"
    }
   ],
   "source": [
    "(/ 6 2)"
   ]
  },
  {
   "cell_type": "code",
   "execution_count": 5,
   "id": "39b181db",
   "metadata": {},
   "outputs": [
    {
     "data": {
      "text/html": [
       "<code>6</code>"
      ],
      "text/plain": [
       "6"
      ]
     },
     "execution_count": 5,
     "metadata": {},
     "output_type": "execute_result"
    }
   ],
   "source": [
    "(+ (* 2 4) (- 4 6))"
   ]
  },
  {
   "cell_type": "code",
   "execution_count": 6,
   "id": "b845aebe",
   "metadata": {},
   "outputs": [
    {
     "data": {
      "text/html": [
       "<code>19</code>"
      ],
      "text/plain": [
       "19"
      ]
     },
     "execution_count": 6,
     "metadata": {},
     "output_type": "execute_result"
    }
   ],
   "source": [
    "(define a 3)\n",
    "(define b (+ a 1))\n",
    "(+ a b (* a b))"
   ]
  },
  {
   "cell_type": "code",
   "execution_count": 7,
   "id": "d6c0ec24",
   "metadata": {},
   "outputs": [
    {
     "data": {
      "text/html": [
       "<code>#f</code>"
      ],
      "text/plain": [
       "#f"
      ]
     },
     "execution_count": 7,
     "metadata": {},
     "output_type": "execute_result"
    }
   ],
   "source": [
    "(= a b)"
   ]
  },
  {
   "cell_type": "code",
   "execution_count": 8,
   "id": "e1196f48",
   "metadata": {},
   "outputs": [
    {
     "data": {
      "text/html": [
       "<code>4</code>"
      ],
      "text/plain": [
       "4"
      ]
     },
     "execution_count": 8,
     "metadata": {},
     "output_type": "execute_result"
    }
   ],
   "source": [
    "(if (and (> b a) (< b (* a b)))\n",
    "  b\n",
    "  a)"
   ]
  },
  {
   "cell_type": "code",
   "execution_count": 9,
   "id": "55bde87c",
   "metadata": {},
   "outputs": [
    {
     "data": {
      "text/html": [
       "<code>16</code>"
      ],
      "text/plain": [
       "16"
      ]
     },
     "execution_count": 9,
     "metadata": {},
     "output_type": "execute_result"
    }
   ],
   "source": [
    "(cond ((= a 4) 6)\n",
    "      ((= b 4) (+ 6 7 a))\n",
    "      (else 25))"
   ]
  },
  {
   "cell_type": "code",
   "execution_count": 10,
   "id": "6ea09a9f",
   "metadata": {},
   "outputs": [
    {
     "data": {
      "text/html": [
       "<code>6</code>"
      ],
      "text/plain": [
       "6"
      ]
     },
     "execution_count": 10,
     "metadata": {},
     "output_type": "execute_result"
    }
   ],
   "source": [
    "(+ 2 (if (> b a) b a))"
   ]
  },
  {
   "cell_type": "code",
   "execution_count": 11,
   "id": "2a044d29",
   "metadata": {},
   "outputs": [
    {
     "data": {
      "text/html": [
       "<code>16</code>"
      ],
      "text/plain": [
       "16"
      ]
     },
     "execution_count": 11,
     "metadata": {},
     "output_type": "execute_result"
    }
   ],
   "source": [
    "(* (cond ((> a b) a)\n",
    "         ((< a b) b)\n",
    "         (else -1))\n",
    "   (+ a 1))"
   ]
  },
  {
   "cell_type": "markdown",
   "id": "2876140f",
   "metadata": {},
   "source": [
    "### Exercise 1.2:\n",
    "Translate the following expression into prefix form:\n",
    "\n",
    "$$\\frac{5 + 4 + (2 - (3 - (6 + \\frac{4}{5})))}{3(6 - 2)(2 - 7)}$$"
   ]
  },
  {
   "cell_type": "code",
   "execution_count": 12,
   "id": "7c70777f",
   "metadata": {},
   "outputs": [
    {
     "data": {
      "text/html": [
       "<code>-37/150</code>"
      ],
      "text/plain": [
       "-37/150"
      ]
     },
     "execution_count": 12,
     "metadata": {},
     "output_type": "execute_result"
    }
   ],
   "source": [
    "(/ (+ 5 4 (- 2 (- 3 (+ 6 (/ 4 5)))))\n",
    "   (* 3 (- 6 2) (- 2 7)))"
   ]
  },
  {
   "cell_type": "markdown",
   "id": "905b71dc",
   "metadata": {},
   "source": [
    "### Exercise 1.3:\n",
    "\n",
    "Define a procedure that takes three numbers\n",
    "as arguments and returns the sum of the squares of the two\n",
    "larger numbers."
   ]
  },
  {
   "cell_type": "code",
   "execution_count": 13,
   "id": "70612801",
   "metadata": {},
   "outputs": [
    {
     "data": {
      "text/html": [
       "<code>13</code>"
      ],
      "text/plain": [
       "13"
      ]
     },
     "execution_count": 13,
     "metadata": {},
     "output_type": "execute_result"
    }
   ],
   "source": [
    "(define (square x) (* x x))\n",
    "(define (sum-of-square x y) (+ (square x) (square y)))\n",
    "\n",
    "(define (sum-of-square-of-two-larger-numbers a b c)\n",
    "  (if (or (> a b) (> a c))\n",
    "      (sum-of-square a (if (> b c) b c))\n",
    "      (sum-of-square b c)))\n",
    "\n",
    "(sum-of-square-of-two-larger-numbers 3 1 2)\n"
   ]
  },
  {
   "cell_type": "markdown",
   "id": "056288c2",
   "metadata": {},
   "source": [
    "### Exercise 1.4:\n",
    "\n",
    "Observe that our model of evaluation allows for combinations whose operators are compound expressions. Use this observation to describe the behavior of the following procedure:\n",
    "\n",
    "```scheme\n",
    "(define (a-plus-abs-b a b)\n",
    "  ((if (> b 0) + -) a b))\n",
    "```\n",
    "\n",
    "### Answer\n",
    "The result of the expression `(if (> b 0) + -)` is a built-in procedure (`+` or `-` depending on the value of `b`). That procedure is substituted in place of the `if` expression. For example: `(+ a b)` or as `(- a b)`. This expression is then evaluated to return the expected result. As the name of the procedure suggests, it adds `a` with the absolute value of `b`."
   ]
  },
  {
   "cell_type": "markdown",
   "id": "17f9ebd1",
   "metadata": {},
   "source": [
    "### Exercise 1.5:\n",
    "Ben Bitdiddle has invented a test to determine whether the interpreter he is faced with is using applicative-order evaluation or normal-order evaluation. He defines the following two procedures:\n",
    "\n",
    "```scheme\n",
    "(define (p) (p))\n",
    "(define (test x y)\n",
    "  (if (= x 0) 0 y))\n",
    "```\n",
    "\n",
    "Ten he evaluates the expression\n",
    "```scheme\n",
    "(test 0 (p))\n",
    "```\n",
    "\n",
    "What behavior will Ben observe with an interpreter that uses applicative-order evaluation? What behavior will he observe with an interpreter that uses normal-order evaluation? Explain your answer. (Assume that the evaluation rule for the special form if is the same whether the interpreter is using normal or applicative order: The predicate expression is evaluated first, and the result determines whether to evaluate the consequent or the alternative expression.)\n",
    "\n",
    "### Answer:\n",
    "**Applicative-Order**: The interpreter evaluates the operator and operands and then applies the resulting procedure to the resulting arguments.\n",
    "\n",
    "**Normal-Order**: First substitute operand expressions for parameters until it obtained an expression involving only primitive operators.\n",
    "\n",
    "**Note**: Lisp uses applicative-order, partly because of the additional efficiency but also it is complicated to deal with normal-order evaluation when used outside simple procedures. \n",
    "\n",
    "#### Behaviour under applicative-order evaluation:\n",
    "Before invoking `test` procedure, all of its arguments will be evaluated, `0` will evaluate to `0`, `(p)` will invoke itself, resulting in an loop that will never terminate.\n",
    "\n",
    "#### Behaviour under normal-order evaluation:\n",
    "The body of the `test` and `p` procedure will be substituted in the evaluating expression. Since the procedure `p` cannot be substituted further, the invocation will be reduced to the following:\n",
    "\n",
    "```scheme\n",
    "(if (= 0 0) 0 (p))\n",
    "```\n",
    "\n",
    "\n",
    " In this evaluation, first the predicate of the `if` block is evaluated. Since `(= 0 0)` is true, only the true block is evaluated (and not the else block). The function will terminate with value as `0`.\n"
   ]
  },
  {
   "cell_type": "markdown",
   "id": "ef4bd235",
   "metadata": {},
   "source": [
    "### Exercise 1.6:\n",
    "Alyssa P. Hacker doesn’t see why if needs to be provided as a special form. “Why can’t I just define it as an ordinary procedure in terms of cond?” she asks. Alyssa’s\n",
    "friend Eva Lu Ator claims this can indeed be done, and she defines a new version of if:\n",
    "\n",
    "```scheme\n",
    "(define (new-if predicate then-clause else-clause)\n",
    "  (cond (predicate then-clause)\n",
    "        (else else-clause)))\n",
    "```\n",
    "Eva demonstrates the program for Alyssa:\n",
    "```scheme\n",
    "(new-if (= 2 3) 0 5)\n",
    "5\n",
    "(new-if (= 1 1) 0 5)\n",
    "0\n",
    "```\n",
    "Delighted, Alyssa uses new-if to rewrite the square-root\n",
    "program:\n",
    "```scheme\n",
    "(define (sqrt-iter guess x)\n",
    "  (new-if (good-enough? guess x)\n",
    "          guess\n",
    "          (sqrt-iter (improve guess x) x)))\n",
    "```\n",
    "What happens when Alyssa attempts to use this to compute square roots? Explain.\n",
    "\n",
    "### Answer:\n",
    "When Alyssa attempts to use this to compute square roots, the function will not terminate. Because, the `new-if` will be a procedure with applicative-order execution. the `predicate`, `then-clause` and `else-clause` will always be executed, resulting in an infinite loop."
   ]
  },
  {
   "cell_type": "markdown",
   "id": "77444c8e",
   "metadata": {},
   "source": [
    "### Exercise 1.7: \n",
    "The `good-enough?` test used in computing square roots will not be very effective for finding the square roots of very small numbers. Also, in real computers, arithmetic operations are almost always performed with limited precision. This makes our test inadequate for very large numbers. Explain these statements, with examples showing how the test fails for small and large numbers. An alternative strategy for implementing `good-enough?` is to watch how guess changes from one iteration to the next and to stop when the change is a very small fraction of the guess. Design a square-root procedure that uses this kind of end test. Does this work better for small and large numbers?\n",
    "\n",
    "### Answer\n",
    "- When used with small numbers the result will not be accurate because the `good-enough?` procedure will square the guess and it would result in a bigger jump than `0.0001`.\n",
    "\n",
    "For example, in the procedure below, the square of square root of `0.0000005` returns `0.0000006`"
   ]
  },
  {
   "cell_type": "code",
   "execution_count": 14,
   "id": "04a2fe07",
   "metadata": {},
   "outputs": [
    {
     "data": {
      "text/html": [
       "<code>6.136874195037108e-5</code>"
      ],
      "text/plain": [
       "6.136874195037108e-5"
      ]
     },
     "execution_count": 14,
     "metadata": {},
     "output_type": "execute_result"
    }
   ],
   "source": [
    "(define (sqrt x)\n",
    "  (define (good-enough? guess x) (< (abs (- (* guess guess) x)) 0.0001))\n",
    "  (define (average x y) (/ (+ x y) 2))\n",
    "  (define (improve guess x) (average guess (/ x guess)))\n",
    "\n",
    "  (define (sqrt-iter guess x)\n",
    "    (if (good-enough? guess x) guess (sqrt-iter (improve guess x) x)))\n",
    "  (sqrt-iter 1.0 x))\n",
    "  \n",
    "(define (square x) (* x x))\n",
    "(square (sqrt 0.0000005))"
   ]
  },
  {
   "cell_type": "markdown",
   "id": "f115a2b1",
   "metadata": {},
   "source": [
    "- When used with larger numbers, the execution will not terminate because when `x` is large, the difference between first `guess` and the subsequent `guess` will be too high for the precision to reach `0.0001` - resulting in infinite oscillation.\n",
    "\n",
    "#### Solution:"
   ]
  },
  {
   "cell_type": "code",
   "execution_count": 15,
   "id": "e4669976",
   "metadata": {},
   "outputs": [
    {
     "data": {
      "text/html": [
       "<code>100000000000000020.0</code>"
      ],
      "text/plain": [
       "100000000000000020.0"
      ]
     },
     "execution_count": 15,
     "metadata": {},
     "output_type": "execute_result"
    }
   ],
   "source": [
    "(define (sqrt2 x)\n",
    "  (define (good-enough? guess new-guess) (< (abs (- guess new-guess)) 0.0001))\n",
    "  (define (average x y) (/ (+ x y) 2))\n",
    "  (define (improve guess x) (average guess (/ x guess)))\n",
    "  (define (sqrt-iter guess x)\n",
    "    (if (good-enough? guess (improve guess x)) (improve guess x) (sqrt-iter (improve guess x) x)))\n",
    "\n",
    "  (sqrt-iter 1.0 x))\n",
    "\n",
    "(square (sqrt2 100000000000000000))"
   ]
  },
  {
   "cell_type": "code",
   "execution_count": 16,
   "id": "7bb09d15",
   "metadata": {},
   "outputs": [
    {
     "data": {
      "text/html": [
       "<code>5.061373437048838e-7</code>"
      ],
      "text/plain": [
       "5.061373437048838e-7"
      ]
     },
     "execution_count": 16,
     "metadata": {},
     "output_type": "execute_result"
    }
   ],
   "source": [
    "(square (sqrt2 0.0000005))"
   ]
  },
  {
   "cell_type": "markdown",
   "id": "2ad0ba28",
   "metadata": {},
   "source": [
    "### Exercise 1.8:\n",
    "Newton’s method for cube roots is based on the fact that if y is an approximation to the cube root of x, then a beter approximation is given by the value\n",
    "\n",
    "$$\\frac{\\frac{x}{y^{2}} + 2y}{3}$$\n",
    "\n",
    "Use this formula to implement a cube-root procedure analogous to the square-root procedure.\n",
    "\n",
    "### Answer"
   ]
  },
  {
   "cell_type": "code",
   "execution_count": 17,
   "id": "6b00154d",
   "metadata": {},
   "outputs": [
    {
     "data": {
      "text/html": [
       "<code>9.000000000053902</code>"
      ],
      "text/plain": [
       "9.000000000053902"
      ]
     },
     "execution_count": 17,
     "metadata": {},
     "output_type": "execute_result"
    }
   ],
   "source": [
    "(define (cubrt x)\n",
    "  (define (good-enough? guess x) (< (abs (- (* guess guess guess) x)) 0.0001))\n",
    "  (define (improve guess x) (/ (+ (/ x (* guess guess)) (* 2 guess)) 3))\n",
    "  (define (cubrt-iter guess x)\n",
    "    (if (good-enough? guess x) guess (cubrt-iter (improve guess x) x)))\n",
    "\n",
    "  (cubrt-iter 1.0 x))\n",
    "\n",
    "(cubrt (* 9 9 9))"
   ]
  }
 ],
 "metadata": {
  "kernelspec": {
   "display_name": "Racket",
   "language": "racket",
   "name": "racket"
  },
  "language_info": {
   "codemirror_mode": "scheme",
   "file_extension": ".rkt",
   "mimetype": "text/x-racket",
   "name": "racket",
   "pygments_lexer": "racket",
   "version": "8.7"
  }
 },
 "nbformat": 4,
 "nbformat_minor": 5
}
