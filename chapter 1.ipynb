{
 "cells": [
  {
   "cell_type": "markdown",
   "id": "b5773806",
   "metadata": {},
   "source": [
    "# Chapter 1 - Building Abstractions with Procedures\n",
    "\n",
    "## Elements of Programming\n",
    "\n",
    "### Exercise 1.1:\n",
    "Below is a sequence of expressions. What is\n",
    "the result printed by the interpreter in response to each ex-\n",
    "pression? Assume that the sequence is to be evaluated in\n",
    "the order in which it is presented."
   ]
  },
  {
   "cell_type": "code",
   "execution_count": 3,
   "id": "f960bf64",
   "metadata": {},
   "outputs": [
    {
     "data": {
      "text/html": [
       "<code>10</code>"
      ],
      "text/plain": [
       "10"
      ]
     },
     "execution_count": 3,
     "metadata": {},
     "output_type": "execute_result"
    }
   ],
   "source": [
    "10"
   ]
  },
  {
   "cell_type": "code",
   "execution_count": 4,
   "id": "ac3a6ae6",
   "metadata": {},
   "outputs": [
    {
     "data": {
      "text/html": [
       "<code>12</code>"
      ],
      "text/plain": [
       "12"
      ]
     },
     "execution_count": 4,
     "metadata": {},
     "output_type": "execute_result"
    }
   ],
   "source": [
    "(+ 5 3 4)"
   ]
  },
  {
   "cell_type": "code",
   "execution_count": 5,
   "id": "0b7e24d2",
   "metadata": {},
   "outputs": [
    {
     "data": {
      "text/html": [
       "<code>8</code>"
      ],
      "text/plain": [
       "8"
      ]
     },
     "execution_count": 5,
     "metadata": {},
     "output_type": "execute_result"
    }
   ],
   "source": [
    "(- 9 1)"
   ]
  },
  {
   "cell_type": "code",
   "execution_count": 6,
   "id": "3843b6c3",
   "metadata": {},
   "outputs": [
    {
     "data": {
      "text/html": [
       "<code>3</code>"
      ],
      "text/plain": [
       "3"
      ]
     },
     "execution_count": 6,
     "metadata": {},
     "output_type": "execute_result"
    }
   ],
   "source": [
    "(/ 6 2)"
   ]
  },
  {
   "cell_type": "code",
   "execution_count": 7,
   "id": "39b181db",
   "metadata": {},
   "outputs": [
    {
     "data": {
      "text/html": [
       "<code>6</code>"
      ],
      "text/plain": [
       "6"
      ]
     },
     "execution_count": 7,
     "metadata": {},
     "output_type": "execute_result"
    }
   ],
   "source": [
    "(+ (* 2 4) (- 4 6))"
   ]
  },
  {
   "cell_type": "code",
   "execution_count": 8,
   "id": "b845aebe",
   "metadata": {},
   "outputs": [
    {
     "data": {
      "text/html": [
       "<code>19</code>"
      ],
      "text/plain": [
       "19"
      ]
     },
     "execution_count": 8,
     "metadata": {},
     "output_type": "execute_result"
    }
   ],
   "source": [
    "(define a 3)\n",
    "(define b (+ a 1))\n",
    "(+ a b (* a b))"
   ]
  },
  {
   "cell_type": "code",
   "execution_count": 9,
   "id": "d6c0ec24",
   "metadata": {},
   "outputs": [
    {
     "data": {
      "text/html": [
       "<code>#f</code>"
      ],
      "text/plain": [
       "#f"
      ]
     },
     "execution_count": 9,
     "metadata": {},
     "output_type": "execute_result"
    }
   ],
   "source": [
    "(= a b)"
   ]
  },
  {
   "cell_type": "code",
   "execution_count": 10,
   "id": "e1196f48",
   "metadata": {},
   "outputs": [
    {
     "data": {
      "text/html": [
       "<code>4</code>"
      ],
      "text/plain": [
       "4"
      ]
     },
     "execution_count": 10,
     "metadata": {},
     "output_type": "execute_result"
    }
   ],
   "source": [
    "(if (and (> b a) (< b (* a b)))\n",
    "b\n",
    "a)"
   ]
  },
  {
   "cell_type": "code",
   "execution_count": 11,
   "id": "55bde87c",
   "metadata": {},
   "outputs": [
    {
     "data": {
      "text/html": [
       "<code>16</code>"
      ],
      "text/plain": [
       "16"
      ]
     },
     "execution_count": 11,
     "metadata": {},
     "output_type": "execute_result"
    }
   ],
   "source": [
    "(cond ((= a 4) 6)\n",
    "((= b 4) (+ 6 7 a))\n",
    "(else 25))"
   ]
  },
  {
   "cell_type": "code",
   "execution_count": 12,
   "id": "6ea09a9f",
   "metadata": {},
   "outputs": [
    {
     "data": {
      "text/html": [
       "<code>6</code>"
      ],
      "text/plain": [
       "6"
      ]
     },
     "execution_count": 12,
     "metadata": {},
     "output_type": "execute_result"
    }
   ],
   "source": [
    "(+ 2 (if (> b a) b a))"
   ]
  },
  {
   "cell_type": "code",
   "execution_count": 2,
   "id": "2a044d29",
   "metadata": {},
   "outputs": [
    {
     "data": {
      "text/html": [
       "<code>16</code>"
      ],
      "text/plain": [
       "16"
      ]
     },
     "execution_count": 2,
     "metadata": {},
     "output_type": "execute_result"
    }
   ],
   "source": [
    "(* (cond ((> a b) a)\n",
    "((< a b) b)\n",
    "(else -1))\n",
    "(+ a 1))"
   ]
  },
  {
   "cell_type": "markdown",
   "id": "2876140f",
   "metadata": {},
   "source": [
    "### Exercise 1.2:\n",
    "Translate the following expression into prefix form:\n",
    "\n",
    "$$\\frac{5 + 4 + (2 - (3 - (6 + \\frac{4}{5})))}{3(6 - 2)(2 - 7)}$$"
   ]
  },
  {
   "cell_type": "code",
   "execution_count": 16,
   "id": "7c70777f",
   "metadata": {},
   "outputs": [
    {
     "data": {
      "text/html": [
       "<code>-37/150</code>"
      ],
      "text/plain": [
       "-37/150"
      ]
     },
     "execution_count": 16,
     "metadata": {},
     "output_type": "execute_result"
    }
   ],
   "source": [
    "(/ (+ 5 4 (- 2 (- 3 (+ 6 (/ 4 5)))))\n",
    "   (* 3 (- 6 2) (- 2 7)))"
   ]
  },
  {
   "cell_type": "markdown",
   "id": "905b71dc",
   "metadata": {},
   "source": [
    "### Exercise 1.3:\n",
    "\n",
    "Define a procedure that takes three numbers\n",
    "as arguments and returns the sum of the squares of the two\n",
    "larger numbers."
   ]
  },
  {
   "cell_type": "code",
   "execution_count": 17,
   "id": "70612801",
   "metadata": {},
   "outputs": [
    {
     "data": {
      "text/html": [
       "<code>13</code>"
      ],
      "text/plain": [
       "13"
      ]
     },
     "execution_count": 17,
     "metadata": {},
     "output_type": "execute_result"
    }
   ],
   "source": [
    "(define (square x) (* x x))\n",
    "(define (sum-of-square x y) (+ (square x) (square y)))\n",
    "\n",
    "(define (sum-of-square-of-two-larger-numbers a b c)\n",
    "  (if (or (> a b) (> a c))\n",
    "      (sum-of-square a (if (> b c) b c))\n",
    "      (sum-of-square b c)))\n",
    "\n",
    "(sum-of-square-of-two-larger-numbers 3 1 2)\n"
   ]
  },
  {
   "cell_type": "markdown",
   "id": "056288c2",
   "metadata": {},
   "source": [
    "### Exercise 1.4:\n",
    "\n",
    "Observe that our model of evaluation allows\n",
    "for combinations whose operators are compound expres-\n",
    "sions. Use this observation to describe the behavior of the\n",
    "following procedure:\n",
    "\n",
    "```scheme\n",
    "(define (a-plus-abs-b a b)\n",
    "  ((if (> b 0) + -) a b))\n",
    "```"
   ]
  },
  {
   "cell_type": "markdown",
   "id": "17f9ebd1",
   "metadata": {},
   "source": [
    "### Exercise 1.5:\n",
    "Ben Bitdiddle has invented a test to determine whether the interpreter he is faced with is using applicative-order evaluation or normal-order evaluation. He defines the following two procedures:\n",
    "\n",
    "```scheme\n",
    "(define (p) (p))\n",
    "(define (test x y)\n",
    "  (if (= x 0) 0 y))\n",
    "```\n",
    "\n",
    "Ten he evaluates the expression\n",
    "```scheme\n",
    "(test 0 (p))\n",
    "```\n",
    "\n",
    "What behavior will Ben observe with an interpreter that uses applicative-order evaluation? What behavior will he observe with an interpreter that uses normal-order evaluation? Explain your answer. (Assume that the evaluation rule for the special form if is the same whether the interpreter is using normal or applicative order: The predicate expression is evaluated first, and the result determines whether to evaluate the consequent or the alternative expression.)"
   ]
  }
 ],
 "metadata": {
  "kernelspec": {
   "display_name": "Racket",
   "language": "racket",
   "name": "racket"
  },
  "language_info": {
   "codemirror_mode": "scheme",
   "file_extension": ".rkt",
   "mimetype": "text/x-racket",
   "name": "racket",
   "pygments_lexer": "racket",
   "version": "8.7"
  }
 },
 "nbformat": 4,
 "nbformat_minor": 5
}
