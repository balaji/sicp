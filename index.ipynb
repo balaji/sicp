{
 "cells": [
  {
   "cell_type": "code",
   "execution_count": 1,
   "metadata": {},
   "outputs": [
    {
     "data": {
      "text/markdown": [
       "# Book\n",
       "- [https://mitpress.mit.edu/9780262510875/structure-and-interpretation-of-computer-programs/](https://mitpress.mit.edu/9780262510875/structure-and-interpretation-of-computer-programs/)\n",
       "\n",
       "# Online Resources\n",
       "- [PDF](https://web.mit.edu/6.001/6.037/sicp.pdf)\n",
       "- [HTML](https://mitp-content-server.mit.edu/books/content/sectbyfn/books_pres_0/6515/sicp.zip/full-text/book/book.html)\n",
       "- [Notes and Lectures](https://web.mit.edu/6.001/6.037/)\n",
       "\n",
       "# Solutions for Exercises\n",
       "- 1.1 to 1.8 [The Elements of Programming](./1.%20Building%20Abstractions%20with%20Procedures/1.1%20The%20Elements%20of%20Programming/1.1.8%20-%20Expressions%20and%20Compound%20Procedures.ipynb)\n",
       "- 1.9 to 1.10 [Linear Recursion and Iteration](./1.%20Building%20Abstractions%20with%20Procedures/1.2%20Procedures%20and%20the%20Processes%20They%20Generate/1.2.1%20-%20Linear%20Recursion%20and%20Iteration.ipynb)\n",
       "- 1.11 to 1.13 [Tree Recursion](./1.%20Building%20Abstractions%20with%20Procedures/1.2%20Procedures%20and%20the%20Processes%20They%20Generate/1.2.2%20-%20Tree%20Recursion.ipynb)\n",
       "- 1.14 to 1.15 [Orders of Growth](./1.%20Building%20Abstractions%20with%20Procedures/1.2%20Procedures%20and%20the%20Processes%20They%20Generate/1.2.3%20-%20Orders%20of%20Growth.ipynb)\n",
       "- 1.16 to 1.19 [Exponentiation](./1.%20Building%20Abstractions%20with%20Procedures/1.2%20Procedures%20and%20the%20Processes%20They%20Generate/1.2.4%20-%20Exponentiation.ipynb)\n"
      ],
      "text/plain": [
       "<IPython.core.display.Markdown object>"
      ]
     },
     "metadata": {},
     "output_type": "display_data"
    }
   ],
   "source": [
    "from IPython.display import Markdown, display\n",
    "display(Markdown(\"readme.md\"))"
   ]
  }
 ],
 "metadata": {
  "kernelspec": {
   "display_name": "Python 3 (ipykernel)",
   "language": "python",
   "name": "python3"
  },
  "language_info": {
   "codemirror_mode": {
    "name": "ipython",
    "version": 3
   },
   "file_extension": ".py",
   "mimetype": "text/x-python",
   "name": "python",
   "nbconvert_exporter": "python",
   "pygments_lexer": "ipython3",
   "version": "3.9.11 (main, Aug 17 2022, 14:33:16) \n[Clang 13.1.6 (clang-1316.0.21.2.5)]"
  },
  "vscode": {
   "interpreter": {
    "hash": "16ce40fbc98770237041b07aeb4e965f5f87483ca0b0ac7181bc5c42d1a7353d"
   }
  }
 },
 "nbformat": 4,
 "nbformat_minor": 2
}
